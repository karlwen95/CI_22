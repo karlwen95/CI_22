{
 "cells": [
  {
   "cell_type": "markdown",
   "source": [
    "# Lab 1 - Set covering\n",
    "Given an integer `N`, and a list of lists containing random integers $\\in[0, N-1]$, find a combination of lists, $L_c$ consisting of all integers $n \\ \\in[0, N-1]$ minimizing the number of elements in $L_c$."
   ],
   "metadata": {
    "collapsed": false
   }
  },
  {
   "cell_type": "code",
   "execution_count": 47,
   "outputs": [],
   "source": [
    "# given function to yield list of lists\n",
    "import random\n",
    "\n",
    "def problem(N, seed=None):\n",
    "    random.seed(seed)\n",
    "    return [\n",
    "        list(set(random.randint(0, N - 1) for n in range(random.randint(N // 5, N // 2))))\n",
    "        for n in range(random.randint(N, N * 5))\n",
    "    ]"
   ],
   "metadata": {
    "collapsed": false
   }
  },
  {
   "cell_type": "code",
   "execution_count": 106,
   "outputs": [],
   "source": [
    "# prerequisites\n",
    "import logging\n",
    "logging.basicConfig(format=\"%(message)s\", level=logging.INFO)"
   ],
   "metadata": {
    "collapsed": false
   }
  },
  {
   "cell_type": "code",
   "execution_count": 109,
   "outputs": [],
   "source": [
    "N = 10\n",
    "seed = 42\n",
    "state_space = problem(N, seed)"
   ],
   "metadata": {
    "collapsed": false
   }
  },
  {
   "cell_type": "code",
   "execution_count": 114,
   "outputs": [
    {
     "data": {
      "text/plain": "[[1, 3, 5],\n [1, 6],\n [0, 9, 4, 5],\n [8, 1, 6],\n [9, 3, 5],\n [0, 3],\n [1, 3, 6],\n [2, 5, 7],\n [1, 3, 4, 9],\n [8, 2, 3],\n [3, 4, 5, 6, 8],\n [0, 3],\n [1, 3, 4, 6],\n [3, 6, 7],\n [2, 3, 4],\n [9, 6],\n [8, 2, 3, 7],\n [0, 1],\n [9, 2, 6],\n [6],\n [8, 0, 4, 1],\n [1, 4, 5, 6],\n [0, 4, 7],\n [8, 1, 4],\n [2, 5],\n [9, 5],\n [0, 1, 3, 4, 5],\n [9, 3],\n [1, 7],\n [8, 2],\n [8, 2, 7],\n [8, 9, 3, 6],\n [4, 5, 6],\n [8, 1, 3, 7],\n [0, 5],\n [0, 9, 3],\n [0, 3],\n [0, 5],\n [8, 3],\n [8, 2, 3, 7],\n [1, 3, 6, 7],\n [5, 6]]"
     },
     "execution_count": 114,
     "metadata": {},
     "output_type": "execute_result"
    }
   ],
   "source": [
    "state_space"
   ],
   "metadata": {
    "collapsed": false
   }
  },
  {
   "cell_type": "markdown",
   "source": [
    "### Basic solution\n",
    "Add the lists in the appeared order and check `state==GOAL` in each step.\n"
   ],
   "metadata": {
    "collapsed": false
   }
  },
  {
   "cell_type": "code",
   "execution_count": 111,
   "outputs": [],
   "source": [
    "# Basic solution\n",
    "\n",
    "INITIAL = []\n",
    "GOAL = list(range(N))\n",
    "\n",
    "curr_state = INITIAL\n",
    "\n",
    "def goal_test(state:list):\n",
    "    return all(elem in state for elem in GOAL)\n",
    "\n",
    "\n",
    "def search(\n",
    "        state : list,\n",
    "        state_space : list):\n",
    "    weight = 0\n",
    "    visited_nodes = 0\n",
    "    while state_space and not goal_test(state): # (state_space not empty and) not reached goal\n",
    "        visited_nodes += 1\n",
    "        next_state = state_space.pop(0)\n",
    "        weight += len(next_state)\n",
    "        for elem in next_state:\n",
    "            state.append(elem)\n",
    "        logging.debug(f\"Added new node to state (cost={len(next_state)})\")\n",
    "    logging.info(f\"Found a solution in {visited_nodes} steps, total cost: {weight}\")\n",
    "    return state, weight, visited_nodes, state_space\n",
    "\n"
   ],
   "metadata": {
    "collapsed": false
   }
  },
  {
   "cell_type": "code",
   "execution_count": 112,
   "outputs": [
    {
     "name": "stderr",
     "output_type": "stream",
     "text": [
      "Found a solution in 8 steps, total cost: 22\n"
     ]
    }
   ],
   "source": [
    "res, w, visited_nodes, remaining_state = search(INITIAL, state_space)\n"
   ],
   "metadata": {
    "collapsed": false
   }
  },
  {
   "cell_type": "code",
   "execution_count": 113,
   "outputs": [
    {
     "name": "stdout",
     "output_type": "stream",
     "text": [
      "Resulting list: [0, 4, 1, 2, 3, 9, 6, 0, 1, 8, 9, 3, 8, 3, 0, 3, 4, 7, 9, 4, 5, 6] \n",
      "Weight: 22 \n",
      "Visited number of nodes: 8\n"
     ]
    }
   ],
   "source": [
    "print(f'Resulting list: {res} \\nWeight: {w} \\nVisited number of nodes: {visited_nodes}') #\\nRemaining_state: {remaining_state}"
   ],
   "metadata": {
    "collapsed": false
   }
  },
  {
   "cell_type": "code",
   "execution_count": 32,
   "outputs": [],
   "source": [
    "# imports\n",
    "import logging\n",
    "import numpy as np\n",
    "import graphviz as gz\n",
    "from typing import Callable"
   ],
   "metadata": {
    "collapsed": false
   }
  },
  {
   "cell_type": "code",
   "execution_count": 29,
   "outputs": [],
   "source": [
    "# logging\n",
    "logging.basicConfig(format=\"%(message)s\", level=logging.INFO)"
   ],
   "metadata": {
    "collapsed": false
   }
  },
  {
   "cell_type": "markdown",
   "source": [
    "### Acknowledgement\n",
    "Re-use code from [Squillero's github](https://github.com/squillero/computational-intelligence/blob/master/2022-23/8-puzzle.ipynb)"
   ],
   "metadata": {
    "collapsed": false
   }
  },
  {
   "cell_type": "code",
   "execution_count": 37,
   "outputs": [],
   "source": [
    "# define state-class\n",
    "class State:\n",
    "    def __init__(self, data: list):\n",
    "        self._data = data.copy()\n",
    "        #self._data.flags.writeable = False\n",
    "\n",
    "    def __hash__(self):\n",
    "        return hash(bytes(self._data))\n",
    "\n",
    "    def __eq__(self, other):\n",
    "        return bytes(self._data) == bytes(other._data)\n",
    "\n",
    "    def __lt__(self, other):\n",
    "        return bytes(self._data) < bytes(other._data)\n",
    "\n",
    "    def __str__(self):\n",
    "        return str(self._data)\n",
    "\n",
    "    def __repr__(self):\n",
    "        return repr(self._data)\n",
    "\n",
    "    @property\n",
    "    def data(self):\n",
    "        return self._data\n",
    "\n",
    "    def copy_data(self):\n",
    "        return self._data.copy()"
   ],
   "metadata": {
    "collapsed": false
   }
  },
  {
   "cell_type": "code",
   "execution_count": 33,
   "outputs": [],
   "source": [
    "# search function\n",
    "def search(\n",
    "    initial_state: State,\n",
    "    goal_test: Callable,\n",
    "    parent_state: dict,\n",
    "    state_cost: dict,\n",
    "    priority_function: Callable,\n",
    "    unit_cost: Callable,\n",
    "):\n",
    "    frontier = PriorityQueue()\n",
    "    parent_state.clear()\n",
    "    state_cost.clear()\n",
    "\n",
    "    state = initial_state\n",
    "    parent_state[state] = None\n",
    "    state_cost[state] = 0\n",
    "\n",
    "    while state is not None and not goal_test(state):\n",
    "        for a in possible_actions(state):\n",
    "            new_state = result(state, a)\n",
    "            cost = unit_cost(a)\n",
    "            if new_state not in state_cost and new_state not in frontier:\n",
    "                parent_state[new_state] = state\n",
    "                state_cost[new_state] = state_cost[state] + cost\n",
    "                frontier.push(new_state, p=priority_function(new_state))\n",
    "                logging.debug(f\"Added new node to frontier (cost={state_cost[new_state]})\")\n",
    "            elif new_state in frontier and state_cost[new_state] > state_cost[state] + cost:\n",
    "                old_cost = state_cost[new_state]\n",
    "                parent_state[new_state] = state\n",
    "                state_cost[new_state] = state_cost[state] + cost\n",
    "                logging.debug(f\"Updated node cost in frontier: {old_cost} -> {state_cost[new_state]}\")\n",
    "        if frontier:\n",
    "            state = frontier.pop()\n",
    "        else:\n",
    "            state = None\n",
    "\n",
    "    path = list()\n",
    "    s = state\n",
    "    while s:\n",
    "        path.append(s.copy_data())\n",
    "        s = parent_state[s]\n",
    "\n",
    "    logging.info(f\"Found a solution in {len(path):,} steps; visited {len(state_cost):,} states\")\n",
    "    return list(reversed(path))"
   ],
   "metadata": {
    "collapsed": false
   }
  },
  {
   "cell_type": "code",
   "execution_count": 51,
   "outputs": [
    {
     "name": "stderr",
     "output_type": "stream",
     "text": [
      "Goal:\n",
      "[0, 1, 2, 3, 4]\n"
     ]
    }
   ],
   "source": [
    "# goal state\n",
    "GOAL = State(list(range(N)))\n",
    "logging.info(f\"Goal:\\n{GOAL}\")\n",
    "\n",
    "\n",
    "def goal_test(state):\n",
    "    return all(elem in state.data for elem in GOAL.data)"
   ],
   "metadata": {
    "collapsed": false
   }
  },
  {
   "cell_type": "code",
   "execution_count": 53,
   "outputs": [
    {
     "data": {
      "text/plain": "True"
     },
     "execution_count": 53,
     "metadata": {},
     "output_type": "execute_result"
    }
   ],
   "source": [
    "l  = [1,3,2,1,1,0,4]\n",
    "goal_test(State(l))"
   ],
   "metadata": {
    "collapsed": false
   }
  },
  {
   "cell_type": "code",
   "execution_count": 44,
   "outputs": [
    {
     "data": {
      "text/plain": "True"
     },
     "execution_count": 44,
     "metadata": {},
     "output_type": "execute_result"
    }
   ],
   "source": [
    "all(elem in GOAL.data for elem in l)"
   ],
   "metadata": {
    "collapsed": false
   }
  },
  {
   "cell_type": "code",
   "execution_count": 42,
   "outputs": [
    {
     "data": {
      "text/plain": "[0, 1, 2, 3, 4]"
     },
     "execution_count": 42,
     "metadata": {},
     "output_type": "execute_result"
    }
   ],
   "source": [
    "GOAL.data"
   ],
   "metadata": {
    "collapsed": false
   }
  },
  {
   "cell_type": "code",
   "execution_count": null,
   "outputs": [],
   "source": [],
   "metadata": {
    "collapsed": false
   }
  }
 ],
 "metadata": {
  "kernelspec": {
   "display_name": "Python 3",
   "language": "python",
   "name": "python3"
  },
  "language_info": {
   "codemirror_mode": {
    "name": "ipython",
    "version": 2
   },
   "file_extension": ".py",
   "mimetype": "text/x-python",
   "name": "python",
   "nbconvert_exporter": "python",
   "pygments_lexer": "ipython2",
   "version": "2.7.6"
  }
 },
 "nbformat": 4,
 "nbformat_minor": 0
}
