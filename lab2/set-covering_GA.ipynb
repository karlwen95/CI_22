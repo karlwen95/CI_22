{
 "cells": [
  {
   "cell_type": "markdown",
   "source": [
    "# Lab 2\n",
    "Use *genetic algorithms* (GA) to solve the set cover problem."
   ],
   "metadata": {
    "collapsed": false
   }
  },
  {
   "cell_type": "code",
   "execution_count": 1,
   "outputs": [],
   "source": [
    "# given function to yield list of lists\n",
    "import random\n",
    "\n",
    "def problem(N, seed=None):\n",
    "    random.seed(seed)\n",
    "    return [\n",
    "        list(set(random.randint(0, N - 1) for n in range(random.randint(N // 5, N // 2))))\n",
    "        for n in range(random.randint(N, N * 5))\n",
    "    ]"
   ],
   "metadata": {
    "collapsed": false
   }
  },
  {
   "cell_type": "code",
   "execution_count": 2,
   "outputs": [],
   "source": [
    "# logging\n",
    "import logging\n",
    "logging.basicConfig(format=\"%(message)s\", level=logging.INFO)"
   ],
   "metadata": {
    "collapsed": false
   }
  },
  {
   "cell_type": "code",
   "execution_count": null,
   "outputs": [],
   "source": [],
   "metadata": {
    "collapsed": false
   }
  },
  {
   "cell_type": "code",
   "execution_count": null,
   "outputs": [],
   "source": [],
   "metadata": {
    "collapsed": false
   }
  },
  {
   "cell_type": "markdown",
   "source": [
    "## Solution outline, $(\\mu + \\lambda)$ algorithm\n",
    "1. Create initial population by selecting a random subset of the list of lists\n",
    "2. Compute fitness to rank population\n",
    "3. Choose parents using roulette wheel with ranking system\n",
    "4. Generate offspring by cross-over, mutate offspring with low probability\n",
    "5. Choose the best solutions of population and offspring\n",
    "6. Repeat step 2-5"
   ],
   "metadata": {
    "collapsed": false
   }
  },
  {
   "cell_type": "code",
   "execution_count": null,
   "outputs": [],
   "source": [
    "# imports\n",
    "from itertools import groupby\n",
    "import random"
   ],
   "metadata": {
    "collapsed": false
   }
  },
  {
   "cell_type": "code",
   "execution_count": 119,
   "outputs": [],
   "source": [
    "POPULATION_SIZE = 30\n",
    "OFFSPRING_SIZE = 100\n",
    "N = 5\n",
    "seed = 42\n",
    "STATE_SPACE = problem(N, seed)\n",
    "ITERS = 1000"
   ],
   "metadata": {
    "collapsed": false
   }
  },
  {
   "cell_type": "code",
   "execution_count": 47,
   "outputs": [],
   "source": [
    "# helping functions\n",
    "\n",
    "# find out which elems are in the lists to compute violated constraints\n",
    "def lists_to_set(lists):\n",
    "    list_elems = [single_elem for l in lists for single_elem in l]\n",
    "    s = set(list_elems)\n",
    "    return s\n",
    "\n",
    "\n",
    "def count_duplicates(lists):\n",
    "    list_elems = [single_elem for l in lists for single_elem in l]\n",
    "    duplicates = sum([len(list(group))-1 for key, group in groupby(sorted(list_elems))])\n",
    "    return duplicates"
   ],
   "metadata": {
    "collapsed": false
   }
  },
  {
   "cell_type": "code",
   "execution_count": 130,
   "outputs": [],
   "source": [
    "def create_population(N,seed):\n",
    "    population = []\n",
    "    STATE_SPACE = problem(N,seed)\n",
    "    for _ in range(POPULATION_SIZE):\n",
    "        individual = random.choices(STATE_SPACE,k=random.randint(1,len(STATE_SPACE)))\n",
    "        fitness = compute_fitness(individual)\n",
    "        population.append((individual,fitness))\n",
    "    return population\n",
    "\n",
    "def compute_fitness(individual):\n",
    "    # violated constraints, i.e. how many elements are missing\n",
    "    vc = set(range(N)).difference(lists_to_set(individual))\n",
    "    duplicates = count_duplicates(individual)\n",
    "\n",
    "    # it is worse to lack elements than having duplicates\n",
    "    fitness = -1000*len(vc)-duplicates\n",
    "    # TODO: could return tuple as (-len(vc), duplicates)\n",
    "    return fitness\n",
    "\n",
    "# parent selection using ranking system\n",
    "# P(choose fittest parent) = POPULATION_SIZE/n_slots\n",
    "# P(choose second fittest parent) = (POPULATION_SIZE-1)/n_slots\n",
    "# ...\n",
    "# P(choose least fit parent) = 1/n_slots\n",
    "def parent_selection(population):\n",
    "    ranked_population = sorted(population, key=lambda t : t[1], reverse=True)\n",
    "    # number of slots in spinning wheel = POPULATION_SIZE(POPULATION_SIZE+1)/2 (arithmetic sum)\n",
    "    n_slots = POPULATION_SIZE*(POPULATION_SIZE+1)/2\n",
    "    wheel_number = random.randint(1,n_slots)\n",
    "    curr_parent = 0\n",
    "    parent_number = POPULATION_SIZE\n",
    "    increment = POPULATION_SIZE-1\n",
    "    while wheel_number > parent_number:\n",
    "        curr_parent +=1\n",
    "        parent_number +=increment\n",
    "        increment -= 1\n",
    "    return ranked_population[curr_parent]\n",
    "\n",
    "\n",
    "def cross_over(parent1, parent2):\n",
    "    cut1 = random.randint(0,len(parent1[0]))\n",
    "    cut2 = random.randint(0,len(parent2[0]))\n",
    "    child = parent1[0][:cut1]+parent2[0][cut2:]\n",
    "    # TODO: explore other cutting strategies\n",
    "    if random.random() < 0.1:\n",
    "        #logging.info(f'Mutating child')\n",
    "        mutate(child)\n",
    "    return child\n",
    "\n",
    "# with low probability, remove a random gene (sublist) from child and add a random gene\n",
    "def mutate(child):\n",
    "    idx = random.randint(0,len(child))\n",
    "    child = child[:idx] + child[idx+1:] + STATE_SPACE[random.randint(0,len(STATE_SPACE)-1)]\n",
    "    return child\n",
    "\n",
    "def update_population(population, offspring):\n",
    "    tot = population + offspring\n",
    "    ranked_population = sorted(tot, key=lambda t : t[1], reverse=True)\n",
    "    return ranked_population[:POPULATION_SIZE]"
   ],
   "metadata": {
    "collapsed": false
   }
  },
  {
   "cell_type": "code",
   "execution_count": 143,
   "outputs": [],
   "source": [
    "# main\n",
    "\n",
    "def main(N, ITERS):\n",
    "    population = create_population(N, seed=42)\n",
    "    for _ in range(ITERS):\n",
    "        offspring = []\n",
    "        for __ in range(OFFSPRING_SIZE):\n",
    "            parent1, parent2 = parent_selection(population), parent_selection(population)\n",
    "            child = cross_over(parent1,parent2)\n",
    "            child_fitness = compute_fitness(child)\n",
    "            offspring.append((child,child_fitness))\n",
    "        population = update_population(population, offspring)\n",
    "        if _ % 20 == 0:\n",
    "            logging.info(f'Iter {_}, best weight: {sorted(population, key=lambda l : l[1], reverse=True)[0][1]}')\n",
    "        if _ == ITERS-1:\n",
    "            logging.info(f'Best individual: {sorted(population, key=lambda l : l[1], reverse=True)[0][1]}')\n",
    "\n"
   ],
   "metadata": {
    "collapsed": false
   }
  },
  {
   "cell_type": "code",
   "execution_count": 144,
   "outputs": [
    {
     "name": "stderr",
     "output_type": "stream",
     "text": [
      "Iter 0, best weight: -20394\n",
      "Iter 20, best weight: -50\n",
      "Iter 40, best weight: -50\n",
      "Iter 60, best weight: -50\n",
      "Iter 80, best weight: -50\n",
      "Best individual: -50\n"
     ]
    }
   ],
   "source": [
    "main(1000, 100)"
   ],
   "metadata": {
    "collapsed": false
   }
  },
  {
   "cell_type": "code",
   "execution_count": null,
   "outputs": [],
   "source": [],
   "metadata": {
    "collapsed": false
   }
  }
 ],
 "metadata": {
  "kernelspec": {
   "display_name": "Python 3",
   "language": "python",
   "name": "python3"
  },
  "language_info": {
   "codemirror_mode": {
    "name": "ipython",
    "version": 2
   },
   "file_extension": ".py",
   "mimetype": "text/x-python",
   "name": "python",
   "nbconvert_exporter": "python",
   "pygments_lexer": "ipython2",
   "version": "2.7.6"
  }
 },
 "nbformat": 4,
 "nbformat_minor": 0
}
