{
 "cells": [
  {
   "cell_type": "markdown",
   "source": [
    "# Lab 2\n",
    "Use *genetic algorithms* (GA) to solve the set cover problem."
   ],
   "metadata": {
    "collapsed": false
   }
  },
  {
   "cell_type": "code",
   "execution_count": 3,
   "outputs": [],
   "source": [
    "# given function to yield list of lists\n",
    "import random\n",
    "\n",
    "def problem(N, seed=None):\n",
    "    random.seed(seed)\n",
    "    return [\n",
    "        list(set(random.randint(0, N - 1) for n in range(random.randint(N // 5, N // 2))))\n",
    "        for n in range(random.randint(N, N * 5))\n",
    "    ]"
   ],
   "metadata": {
    "collapsed": false
   }
  },
  {
   "cell_type": "code",
   "execution_count": 4,
   "outputs": [],
   "source": [
    "# logging\n",
    "import logging\n",
    "#logging.basicConfig(format=\"%(message)s\", level=logging.DEBUG)\n",
    "logging.basicConfig(filename='logging.log', encoding='utf-8', level=logging.INFO)"
   ],
   "metadata": {
    "collapsed": false
   }
  },
  {
   "cell_type": "markdown",
   "source": [
    "## Solution outline, $(\\mu + \\lambda)$ algorithm\n",
    "### (also $(\\mu , \\lambda)$ possible if `update_population_comma` is used instead of `update_population_plus`\n",
    "1. Create initial population by selecting a random subset of the list of lists\n",
    "2. Compute fitness to rank population\n",
    "3. Choose parents using roulette wheel with ranking system\n",
    "4. Generate offspring by cross-over, mutate offspring with low probability\n",
    "5. Choose the best solutions of population and offspring (*or just best from offspring*)\n",
    "6. Repeat step 2-5"
   ],
   "metadata": {
    "collapsed": false
   }
  },
  {
   "cell_type": "code",
   "execution_count": 5,
   "outputs": [],
   "source": [
    "# imports\n",
    "from itertools import groupby\n",
    "import random\n",
    "import time"
   ],
   "metadata": {
    "collapsed": false
   }
  },
  {
   "cell_type": "code",
   "execution_count": 6,
   "outputs": [],
   "source": [
    "# helping functions\n",
    "\n",
    "def lists_to_set(genome):\n",
    "    \"\"\"\n",
    "    convert genome to set\n",
    "    :param genome: the sub-lists with random integers between 0 and N-1\n",
    "    :return: set of contained elements in the genome\n",
    "    \"\"\"\n",
    "    list_elems = [single_elem for l in genome for single_elem in l]\n",
    "    s = set(list_elems)\n",
    "    return s\n",
    "\n",
    "# find out how many duplicates there are in the population\n",
    "def count_duplicates(genome):\n",
    "    \"\"\"\n",
    "    Count how many duplicates there are in the genome\n",
    "    :param genome: the sub-lists with random integers between 0 and N-1\n",
    "    :return: the count\n",
    "    \"\"\"\n",
    "    list_elems = [single_elem for l in genome for single_elem in l]\n",
    "    duplicates = sum([len(list(group))-1 for key, group in groupby(sorted(list_elems))])\n",
    "    return duplicates\n"
   ],
   "metadata": {
    "collapsed": false
   }
  },
  {
   "cell_type": "code",
   "execution_count": 55,
   "outputs": [],
   "source": [
    "# to initialize the population\n",
    "def create_population(STATE_SPACE, GOAL):\n",
    "    \"\"\"\n",
    "    Initialize the population.\n",
    "    :param STATE_SPACE: List of lists generated from problem-function\n",
    "    :param GOAL: set of integers from 0 to N-1\n",
    "    :return: a list of tuples: (genome,fitness), for each individual in the population.\n",
    "    \"\"\"\n",
    "    population = []\n",
    "    for _ in range(POPULATION_SIZE):\n",
    "        individual = []\n",
    "        for _ in range(random.randint(1,len(STATE_SPACE))):\n",
    "            l = random.choice(STATE_SPACE)\n",
    "            if l not in individual: #check duplicates here\n",
    "                individual.append(l)\n",
    "        #individual = random.choices(STATE_SPACE,k=random.randint(1,len(STATE_SPACE)))\n",
    "        fitness = compute_fitness(individual, GOAL)\n",
    "        population.append((individual,fitness))\n",
    "    return population\n",
    "\n",
    "def compute_fitness(genome, GOAL):\n",
    "    \"\"\"\n",
    "    fitness is a tuple of (-#of_elems_missing,-#duplicates) which should be maximized\n",
    "    :param genome: the sub-lists with random integers between 0 and N-1\n",
    "    :param GOAL: set of integers from 0 to N-1\n",
    "    :return: the fitness\n",
    "    \"\"\"\n",
    "    # violated constraints, i.e. how many elements are missing\n",
    "    vc = GOAL.difference(lists_to_set(genome))\n",
    "    duplicates = count_duplicates(genome)\n",
    "    # it is worse to lack elements than having duplicates\n",
    "    fitness = (-len(vc), -duplicates)\n",
    "    return fitness\n",
    "\n",
    "def goal_check(genome, GOAL):\n",
    "    \"\"\"\n",
    "    Check if all required elements are in the genome\n",
    "    :param genome: the sub-lists with random integers between 0 and N-1\n",
    "    :param GOAL: set of integers from 0 to N-1\n",
    "    :return: boolean value if goal reached or not\n",
    "    \"\"\"\n",
    "    return GOAL==lists_to_set(genome)\n",
    "\n",
    "def parent_selection(population):\n",
    "    \"\"\"\n",
    "    parent selection using ranking system\n",
    "    P(choose fittest parent) = POPULATION_SIZE/n_slots\n",
    "    P(choose second fittest parent) = (POPULATION_SIZE-1)/n_slots\n",
    "    ...\n",
    "    P(choose least fit parent) = 1/n_slots\n",
    "    :param population: list of individuals\n",
    "    :return: parent to generate offspring\n",
    "    \"\"\"\n",
    "    ranked_population = sorted(population, key=lambda t : t[1], reverse=True)\n",
    "    # number of slots in spinning wheel = POPULATION_SIZE(POPULATION_SIZE+1)/2 (arithmetic sum)\n",
    "    n_slots = POPULATION_SIZE*(POPULATION_SIZE+1)/2\n",
    "    wheel_number = random.randint(1,n_slots)\n",
    "    curr_parent = 0\n",
    "    parent_number = POPULATION_SIZE\n",
    "    increment = POPULATION_SIZE-1\n",
    "    while wheel_number > parent_number:\n",
    "        curr_parent +=1\n",
    "        parent_number +=increment\n",
    "        increment -= 1\n",
    "    return ranked_population[curr_parent]\n",
    "\n",
    "# make one child from each cross-over, and mutate with low prob\n",
    "def cross_over(parent1, parent2, STATE_SPACE, mutation_prob = 0.1):\n",
    "    \"\"\"\n",
    "    Compute cross-over between two selected parents. Mutate child with mutation_prob.\n",
    "    :param parent1: individual\n",
    "    :param parent2: individual\n",
    "    :param STATE_SPACE: List of lists generated from problem-function\n",
    "    :param mutation_prob: the probability to perform mutation\n",
    "    :return: the child created\n",
    "    \"\"\"\n",
    "    cut1 = random.randint(0,len(parent1[0]))\n",
    "    cut2 = random.randint(0,len(parent2[0]))\n",
    "    child = parent1[0][:cut1]+parent2[0][cut2:]\n",
    "    if random.random() < mutation_prob:\n",
    "        mutate(child, STATE_SPACE)\n",
    "    return child\n",
    "\n",
    "\n",
    "def mutate(child, STATE_SPACE):\n",
    "    \"\"\"\n",
    "    Replace one list in the child with a random one from the state space.\n",
    "    :param child:\n",
    "    :param STATE_SPACE:\n",
    "    :return: the mutated child\n",
    "    \"\"\"\n",
    "    idx = random.randint(0,len(child))\n",
    "    #child = child[:idx] + child[idx+1:] + STATE_SPACE[random.randint(0,len(STATE_SPACE)-1)]\n",
    "    i = 0\n",
    "    while i<10:\n",
    "        i+=1\n",
    "        if STATE_SPACE[random.randint(0,len(STATE_SPACE)-1)] not in child:\n",
    "             child = child[:idx] + child[idx+1:] + STATE_SPACE[random.randint(0,len(STATE_SPACE)-1)]\n",
    "             break\n",
    "    return child\n",
    "\n",
    "def update_population_plus(population, offspring):\n",
    "    \"\"\"\n",
    "    Using the plus strategy to update population to next generation.\n",
    "    :param population:\n",
    "    :param offspring:\n",
    "    :return: the best individuals in union(population, offspring)\n",
    "    \"\"\"\n",
    "    tot = population + offspring\n",
    "    ranked_population = sorted(tot, key=lambda t : t[1], reverse=True)\n",
    "    return ranked_population[:POPULATION_SIZE]\n",
    "\n",
    "def update_population_comma(offspring):\n",
    "    \"\"\"\n",
    "    Using the plus strategy to update population to next generation.\n",
    "    :param offspring:\n",
    "    :return: the best individuals in from offspring\n",
    "    \"\"\"\n",
    "    ranked_pop = sorted(offspring, key=lambda t : t[1], reverse=True)\n",
    "    return ranked_pop[:POPULATION_SIZE]\n",
    "\n",
    "def update_mutation_prob(best_solution, best_this_iter, mutation_param, it):\n",
    "    \"\"\"\n",
    "    Update the mutation probability according to how the performance evolves. If no improvement, mutation probability increases (favour exploration). If improvement, mutation probability decreases (favour exploitation).\n",
    "    :param best_solution: The best solution so far\n",
    "    :param best_this_iter: The best solution of this generation\n",
    "    :param mutation_param:\n",
    "    :param it: iteration number\n",
    "    :return: the new mutation probability\n",
    "    \"\"\"\n",
    "    if best_solution[1] >= best_this_iter[1]:\n",
    "        mutation_param +=1\n",
    "    elif best_solution[1] >= best_this_iter[1] and mutation_param>0:\n",
    "        mutation_param -= 1\n",
    "    return mutation_param/(1+it), mutation_param"
   ],
   "metadata": {
    "collapsed": false
   }
  },
  {
   "cell_type": "code",
   "execution_count": 56,
   "outputs": [],
   "source": [
    "def solve_problem(N):\n",
    "    STATE_SPACE = problem(N,seed=42)\n",
    "    GOAL = set(range(N))\n",
    "    population = create_population(STATE_SPACE, GOAL)\n",
    "    best_sol = population[0] #to be updated after each iter\n",
    "    found_in_iter = 0 #to be updated\n",
    "    mutation_param = 1 #increase if solution doesn't improve\n",
    "    mutation_prob = 0.1 #init value\n",
    "    for i in range(ITERS):\n",
    "        offspring = []\n",
    "        for __ in range(OFFSPRING_SIZE):\n",
    "            parent1, parent2 = parent_selection(population), parent_selection(population)\n",
    "            child = cross_over(parent1,parent2, STATE_SPACE, mutation_prob)\n",
    "            child_fitness = compute_fitness(child, GOAL)\n",
    "            offspring.append((child,child_fitness))\n",
    "        #population = update_population_plus(population, offspring)\n",
    "        population = update_population_comma(offspring)\n",
    "        best_curr = sorted(population, key=lambda l:l[1], reverse=True)[0]\n",
    "        mutation_prob, mutation_param = update_mutation_prob(best_sol, best_curr, mutation_param, i)\n",
    "        if goal_check(best_curr[0],GOAL) and best_curr[1] > best_sol[1]:\n",
    "            best_sol = best_curr\n",
    "            found_in_iter = i\n",
    "    logging.info(f'Best solution found in {found_in_iter} iters and has weight {-best_sol[1][1]}')\n",
    "    return best_sol\n",
    "\n"
   ],
   "metadata": {
    "collapsed": false
   }
  },
  {
   "cell_type": "code",
   "execution_count": 57,
   "outputs": [
    {
     "name": "stdout",
     "output_type": "stream",
     "text": [
      "N = 5\n",
      "N = 10\n",
      "N = 20\n",
      "N = 100\n",
      "N = 1000\n"
     ]
    }
   ],
   "source": [
    "# main\n",
    "\n",
    "# settings\n",
    "POPULATION_SIZE = 50\n",
    "OFFSPRING_SIZE = 300\n",
    "ITERS = 100\n",
    "\n",
    "for N in [5,10,20,100,1000]:\n",
    "    best_sol = solve_problem(N)\n",
    "    print(f'N = {N}')\n",
    "    logging.info(f'The best weight for N = {N}: {-best_sol[1][1]+N}')\n"
   ],
   "metadata": {
    "collapsed": false
   }
  },
  {
   "cell_type": "code",
   "execution_count": null,
   "outputs": [],
   "source": [],
   "metadata": {
    "collapsed": false
   }
  }
 ],
 "metadata": {
  "kernelspec": {
   "display_name": "Python 3",
   "language": "python",
   "name": "python3"
  },
  "language_info": {
   "codemirror_mode": {
    "name": "ipython",
    "version": 2
   },
   "file_extension": ".py",
   "mimetype": "text/x-python",
   "name": "python",
   "nbconvert_exporter": "python",
   "pygments_lexer": "ipython2",
   "version": "2.7.6"
  }
 },
 "nbformat": 4,
 "nbformat_minor": 0
}
