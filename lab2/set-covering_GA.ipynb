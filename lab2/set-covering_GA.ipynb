{
 "cells": [
  {
   "cell_type": "markdown",
   "source": [
    "# Lab 2\n",
    "Use *genetic algorithms* (GA) to solve the set cover problem."
   ],
   "metadata": {
    "collapsed": false
   }
  },
  {
   "cell_type": "code",
   "execution_count": 2,
   "outputs": [],
   "source": [
    "# given function to yield list of lists\n",
    "import random\n",
    "\n",
    "def problem(N, seed=None):\n",
    "    random.seed(seed)\n",
    "    return [\n",
    "        list(set(random.randint(0, N - 1) for n in range(random.randint(N // 5, N // 2))))\n",
    "        for n in range(random.randint(N, N * 5))\n",
    "    ]"
   ],
   "metadata": {
    "collapsed": false
   }
  },
  {
   "cell_type": "code",
   "execution_count": 3,
   "outputs": [],
   "source": [
    "# logging\n",
    "import logging\n",
    "logging.basicConfig(format=\"%(message)s\", level=logging.INFO)"
   ],
   "metadata": {
    "collapsed": false
   }
  },
  {
   "cell_type": "markdown",
   "source": [
    "## Solution outline, $(\\mu + \\lambda)$ algorithm\n",
    "### (also $(\\mu , \\lambda)$ possible if `update_population_comma` is used instead of `update_population_plus`\n",
    "1. Create initial population by selecting a random subset of the list of lists\n",
    "2. Compute fitness to rank population\n",
    "3. Choose parents using roulette wheel with ranking system\n",
    "4. Generate offspring by cross-over, mutate offspring with low probability\n",
    "5. Choose the best solutions of population and offspring (*or just best from offspring*)\n",
    "6. Repeat step 2-5"
   ],
   "metadata": {
    "collapsed": false
   }
  },
  {
   "cell_type": "code",
   "execution_count": 4,
   "outputs": [],
   "source": [
    "# imports\n",
    "from itertools import groupby\n",
    "import random"
   ],
   "metadata": {
    "collapsed": false
   }
  },
  {
   "cell_type": "code",
   "execution_count": 5,
   "outputs": [],
   "source": [
    "# helping functions\n",
    "\n",
    "# find out which elems are in the lists to compute violated constraints\n",
    "def lists_to_set(lists):\n",
    "    list_elems = [single_elem for l in lists for single_elem in l]\n",
    "    s = set(list_elems)\n",
    "    return s\n",
    "\n",
    "# find out how many duplicates there are in the population\n",
    "def count_duplicates(lists):\n",
    "    list_elems = [single_elem for l in lists for single_elem in l]\n",
    "    duplicates = sum([len(list(group))-1 for key, group in groupby(sorted(list_elems))])\n",
    "    return duplicates"
   ],
   "metadata": {
    "collapsed": false
   }
  },
  {
   "cell_type": "code",
   "execution_count": 6,
   "outputs": [],
   "source": [
    "# to initialize the population\n",
    "def create_population(STATE_SPACE, GOAL):\n",
    "    population = []\n",
    "    for _ in range(POPULATION_SIZE):\n",
    "        individual = random.choices(STATE_SPACE,k=random.randint(1,len(STATE_SPACE)))\n",
    "        fitness = compute_fitness(individual, GOAL)\n",
    "        population.append((individual,fitness))\n",
    "    return population\n",
    "\n",
    "# fitness is a tuple of (-#of_elems_missing,-#duplicates) which should be maximized\n",
    "def compute_fitness(individual, GOAL):\n",
    "    # violated constraints, i.e. how many elements are missing\n",
    "    vc = GOAL.difference(lists_to_set(individual))\n",
    "    duplicates = count_duplicates(individual)\n",
    "    # it is worse to lack elements than having duplicates\n",
    "    fitness = (-len(vc), -duplicates)\n",
    "    return fitness\n",
    "\n",
    "def goal_check(individual, GOAL):\n",
    "    if GOAL==lists_to_set(individual) :\n",
    "        return True\n",
    "    else: return False\n",
    "\n",
    "\"\"\"\n",
    "parent selection using ranking system\n",
    "P(choose fittest parent) = POPULATION_SIZE/n_slots\n",
    "P(choose second fittest parent) = (POPULATION_SIZE-1)/n_slots\n",
    "...\n",
    "P(choose least fit parent) = 1/n_slots\n",
    "\"\"\"\n",
    "def parent_selection(population):\n",
    "    ranked_population = sorted(population, key=lambda t : t[1], reverse=True)\n",
    "    # number of slots in spinning wheel = POPULATION_SIZE(POPULATION_SIZE+1)/2 (arithmetic sum)\n",
    "    n_slots = POPULATION_SIZE*(POPULATION_SIZE+1)/2\n",
    "    wheel_number = random.randint(1,n_slots)\n",
    "    curr_parent = 0\n",
    "    parent_number = POPULATION_SIZE\n",
    "    increment = POPULATION_SIZE-1\n",
    "    while wheel_number > parent_number:\n",
    "        curr_parent +=1\n",
    "        parent_number +=increment\n",
    "        increment -= 1\n",
    "    return ranked_population[curr_parent]\n",
    "\n",
    "# make one child from each cross-over, and mutate with low prob\n",
    "def cross_over(parent1, parent2, STATE_SPACE):\n",
    "    cut1 = random.randint(0,len(parent1[0]))\n",
    "    cut2 = random.randint(0,len(parent2[0]))\n",
    "    child = parent1[0][:cut1]+parent2[0][cut2:]\n",
    "    if random.random() < 0.01:\n",
    "        mutate(child, STATE_SPACE)\n",
    "    return child\n",
    "\n",
    "# with low probability, remove a random gene (sublist) from child and add a random gene\n",
    "def mutate(child, STATE_SPACE):\n",
    "    idx = random.randint(0,len(child))\n",
    "    child = child[:idx] + child[idx+1:] + STATE_SPACE[random.randint(0,len(STATE_SPACE)-1)]\n",
    "    return child\n",
    "\n",
    "def update_population_plus(population, offspring):\n",
    "    tot = population + offspring\n",
    "    ranked_population = sorted(tot, key=lambda t : t[1], reverse=True)\n",
    "    return ranked_population[:POPULATION_SIZE]\n",
    "\n",
    "def update_population_comma(offspring):\n",
    "    ranked_pop = sorted(offspring, key=lambda t : t[1], reverse=True)\n",
    "    return ranked_pop[:POPULATION_SIZE]"
   ],
   "metadata": {
    "collapsed": false
   }
  },
  {
   "cell_type": "code",
   "execution_count": 13,
   "outputs": [],
   "source": [
    "import numpy as np\n",
    "\n",
    "def solve_problem(N):\n",
    "    STATE_SPACE = problem(N,seed=42)\n",
    "    GOAL = set(range(N))\n",
    "    population = create_population(STATE_SPACE, GOAL)\n",
    "    # track best results through generations\n",
    "    best_w = -np.inf\n",
    "    best_iter = 0\n",
    "    for i in range(ITERS):\n",
    "        offspring = []\n",
    "        for __ in range(OFFSPRING_SIZE):\n",
    "            parent1, parent2 = parent_selection(population), parent_selection(population)\n",
    "            child = cross_over(parent1,parent2, STATE_SPACE)\n",
    "            child_fitness = compute_fitness(child, GOAL)\n",
    "            offspring.append((child,child_fitness))\n",
    "        population = update_population_plus(population, offspring)\n",
    "        #population = update_population_comma(offspring)\n",
    "        best_ind = sorted(population, key=lambda l : l[1], reverse=True)[0]\n",
    "        if goal_check(best_ind[0],GOAL) and best_ind[1][1] > best_w:\n",
    "            best_w = best_ind[1][1]\n",
    "            best_iter = i\n",
    "        #if _ % 20 == 0:\n",
    "         #   logging.info(f'Iter {_}, best weight: {sorted(population, key=lambda l : l[1], reverse=True)[0][1]}')\n",
    "        #if _ == ITERS-1:\n",
    "    best_ind2 = sorted(population, key=lambda l : l[1], reverse=True)[0]\n",
    "    #best_ind_sorted = sorted([single_elem for l in best_ind[0] for single_elem in l])\n",
    "    #logging.info(f'Best individual: {best_ind_sorted}')\n",
    "    #logging.info(f'With weight: {best_ind[1]}')\n",
    "    if goal_check(best_ind2[0], GOAL):\n",
    "        logging.info(f'Solution reached for N = {N}')\n",
    "    #logging.info(f'The best weight: {-best_w} was found in iter {best_iter}')\n",
    "    return population\n",
    "\n"
   ],
   "metadata": {
    "collapsed": false
   }
  },
  {
   "cell_type": "code",
   "execution_count": 15,
   "outputs": [
    {
     "name": "stderr",
     "output_type": "stream",
     "text": [
      "Solution reached for N = 5\n",
      "The best weight: 0\n",
      "Solution reached for N = 10\n",
      "The best weight: 0\n"
     ]
    },
    {
     "name": "stdout",
     "output_type": "stream",
     "text": [
      "\n",
      "\n"
     ]
    },
    {
     "name": "stderr",
     "output_type": "stream",
     "text": [
      "Solution reached for N = 20\n",
      "The best weight: 5\n"
     ]
    },
    {
     "name": "stdout",
     "output_type": "stream",
     "text": [
      "\n"
     ]
    },
    {
     "name": "stderr",
     "output_type": "stream",
     "text": [
      "Solution reached for N = 50\n",
      "The best weight: 40\n"
     ]
    },
    {
     "name": "stdout",
     "output_type": "stream",
     "text": [
      "\n"
     ]
    },
    {
     "name": "stderr",
     "output_type": "stream",
     "text": [
      "Solution reached for N = 100\n",
      "The best weight: 113\n"
     ]
    },
    {
     "name": "stdout",
     "output_type": "stream",
     "text": [
      "\n"
     ]
    },
    {
     "name": "stderr",
     "output_type": "stream",
     "text": [
      "Solution reached for N = 1000\n",
      "The best weight: 2995\n"
     ]
    },
    {
     "name": "stdout",
     "output_type": "stream",
     "text": [
      "\n"
     ]
    },
    {
     "name": "stderr",
     "output_type": "stream",
     "text": [
      "Solution reached for N = 2000\n",
      "The best weight: 7617\n"
     ]
    },
    {
     "name": "stdout",
     "output_type": "stream",
     "text": [
      "\n"
     ]
    }
   ],
   "source": [
    "# main\n",
    "\n",
    "# settings\n",
    "POPULATION_SIZE = 50\n",
    "OFFSPRING_SIZE = 30\n",
    "ITERS = 100\n",
    "\n",
    "for N in [5,10,20,50,100,1000,2000]:\n",
    "    final_pop = solve_problem(N)\n",
    "    best_ind = sorted(final_pop, key=lambda li : li[1], reverse=True)[0]\n",
    "    logging.info(f'The best weight: {-best_ind[1][1]}')\n",
    "    print()\n"
   ],
   "metadata": {
    "collapsed": false
   }
  }
 ],
 "metadata": {
  "kernelspec": {
   "display_name": "Python 3",
   "language": "python",
   "name": "python3"
  },
  "language_info": {
   "codemirror_mode": {
    "name": "ipython",
    "version": 2
   },
   "file_extension": ".py",
   "mimetype": "text/x-python",
   "name": "python",
   "nbconvert_exporter": "python",
   "pygments_lexer": "ipython2",
   "version": "2.7.6"
  }
 },
 "nbformat": 4,
 "nbformat_minor": 0
}
