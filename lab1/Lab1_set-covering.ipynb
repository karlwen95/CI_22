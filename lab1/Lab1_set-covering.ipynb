{
 "cells": [
  {
   "cell_type": "markdown",
   "source": [
    "# Lab 1 - Set covering\n",
    "Given an integer `N`, and a list of lists containing random integers $\\in[0, N-1]$, find a combination of lists, $L_c$ consisting of all integers $n \\ \\in[0, N-1]$ minimizing the number of elements in $L_c$."
   ],
   "metadata": {
    "collapsed": false
   }
  },
  {
   "cell_type": "code",
   "execution_count": 1,
   "outputs": [],
   "source": [
    "# given function to yield list of lists\n",
    "import random\n",
    "\n",
    "def problem(N, seed=None):\n",
    "    random.seed(seed)\n",
    "    return [\n",
    "        list(set(random.randint(0, N - 1) for n in range(random.randint(N // 5, N // 2))))\n",
    "        for n in range(random.randint(N, N * 5))\n",
    "    ]"
   ],
   "metadata": {
    "collapsed": false
   }
  },
  {
   "cell_type": "code",
   "execution_count": 2,
   "outputs": [],
   "source": [
    "# logging\n",
    "import logging\n",
    "logging.basicConfig(format=\"%(message)s\", level=logging.INFO)"
   ],
   "metadata": {
    "collapsed": false
   }
  },
  {
   "cell_type": "markdown",
   "source": [
    "### Super greedy solution\n",
    "Key is how to sort the list of lists.\n",
    "\n",
    "Initial sort: Sort on most unique elements without duplicates.\n",
    "\n",
    "Sort during iteration: Sort the lists according to their proportion of new elements, i.e. $\\frac{\\text{num. of new elements}}{\\text{len(list)}}$."
   ],
   "metadata": {
    "collapsed": false
   }
  },
  {
   "cell_type": "code",
   "execution_count": 15,
   "outputs": [],
   "source": [
    "# Super greedy solution\n",
    "\n",
    "# check if goal is completed\n",
    "def goal_test(state:set, goal:set):\n",
    "    return state == goal\n",
    "\n",
    "# use to sort list during iteration\n",
    "def prop_new_elems(state:set, next_state:set):\n",
    "    return len(next_state.difference(state))/len(next_state)\n",
    "\n",
    "# search algorithm\n",
    "def search(N : int):\n",
    "    state = set()\n",
    "    GOAL = set(range(N))\n",
    "    weight = 0\n",
    "    visited_nodes = 0\n",
    "    state_space = sorted(problem(N,seed=42), key=lambda l:len(l), reverse=True)\n",
    "    while state_space and not goal_test(state, GOAL):\n",
    "        next_state = set(state_space.pop(0))\n",
    "        visited_nodes += 1\n",
    "        weight += len(next_state)\n",
    "        state.update(next_state)\n",
    "        state_space = sorted(state_space, key=lambda l:prop_new_elems(state, set(l)), reverse=True)\n",
    "    if goal_test(state,GOAL):\n",
    "        logging.info(f\"N = {N}\\nFound a solution in {visited_nodes} steps, total cost: {weight}\")\n",
    "    else:\n",
    "        logging.info(f'Could not find a solution.')\n",
    "    return state"
   ],
   "metadata": {
    "collapsed": false
   }
  },
  {
   "cell_type": "code",
   "execution_count": 16,
   "outputs": [
    {
     "name": "stderr",
     "output_type": "stream",
     "text": [
      "N = 5\n",
      "Found a solution in 3 steps, total cost: 5\n",
      "N = 10\n",
      "Found a solution in 3 steps, total cost: 10\n",
      "N = 20\n",
      "Found a solution in 4 steps, total cost: 24\n",
      "N = 100\n",
      "Found a solution in 8 steps, total cost: 184\n",
      "N = 500\n",
      "Found a solution in 11 steps, total cost: 1262\n",
      "N = 1000\n",
      "Found a solution in 13 steps, total cost: 2878\n"
     ]
    },
    {
     "name": "stdout",
     "output_type": "stream",
     "text": [
      "Elapsed: 4.520584344863892\n"
     ]
    }
   ],
   "source": [
    "\n",
    "import time\n",
    "s = time.time()\n",
    "for N in [5,10,20,100,500,1000]:\n",
    "    res = search(N)\n",
    "print(f'Elapsed: {time.time()-s}')"
   ],
   "metadata": {
    "collapsed": false
   }
  }
 ],
 "metadata": {
  "kernelspec": {
   "display_name": "Python 3",
   "language": "python",
   "name": "python3"
  },
  "language_info": {
   "codemirror_mode": {
    "name": "ipython",
    "version": 2
   },
   "file_extension": ".py",
   "mimetype": "text/x-python",
   "name": "python",
   "nbconvert_exporter": "python",
   "pygments_lexer": "ipython2",
   "version": "2.7.6"
  }
 },
 "nbformat": 4,
 "nbformat_minor": 0
}
